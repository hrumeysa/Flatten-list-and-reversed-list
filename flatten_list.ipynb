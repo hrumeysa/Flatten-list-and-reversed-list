{
 "cells": [
  {
   "cell_type": "code",
   "execution_count": 4,
   "id": "d92b5a30-806f-4e20-a915-d4cc0495c937",
   "metadata": {},
   "outputs": [
    {
     "name": "stdout",
     "output_type": "stream",
     "text": [
      "[2, 'l', 1, 'b', 3, 's', 'w', 1, 's', 2, 'n']\n"
     ]
    }
   ],
   "source": [
    "nested_list = [2,[\"l\"], 1, [\"b\",3, [\"s\"]], [\"w\",[1]],[\"s\",[2,[\"n\"]]]]\n",
    "\n",
    "def flatten_list(nested_list):\n",
    "    flat_list = []\n",
    "    for item in nested_list:\n",
    "        if isinstance(item,list):\n",
    "            flat_list.extend(flatten_list(item))\n",
    "        else:\n",
    "            flat_list.append(item)\n",
    "    return flat_list\n",
    "\n",
    "flatten_list2 = flatten_list(nested_list)\n",
    "print(flatten_list2)"
   ]
  },
  {
   "cell_type": "code",
   "execution_count": null,
   "id": "1ad40849-17d0-44a1-a81a-7c58ada9a764",
   "metadata": {},
   "outputs": [],
   "source": []
  }
 ],
 "metadata": {
  "kernelspec": {
   "display_name": "Python 3 (ipykernel)",
   "language": "python",
   "name": "python3"
  },
  "language_info": {
   "codemirror_mode": {
    "name": "ipython",
    "version": 3
   },
   "file_extension": ".py",
   "mimetype": "text/x-python",
   "name": "python",
   "nbconvert_exporter": "python",
   "pygments_lexer": "ipython3",
   "version": "3.11.3"
  }
 },
 "nbformat": 4,
 "nbformat_minor": 5
}
