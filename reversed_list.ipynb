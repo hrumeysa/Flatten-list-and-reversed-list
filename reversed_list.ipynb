{
 "cells": [
  {
   "cell_type": "code",
   "execution_count": 3,
   "id": "f109c2d2-aebe-41aa-866f-b1aea2be37e1",
   "metadata": {},
   "outputs": [
    {
     "name": "stdout",
     "output_type": "stream",
     "text": [
      "[9, 8, 7, 6, 5, 4, 3, 2, 1, 0]\n"
     ]
    }
   ],
   "source": [
    "list = [0,1,2,3,4,5,6,7,8,9]\n",
    "\n",
    "def reversed_list(list):\n",
    "    reverse_list = []\n",
    "    for item in reversed(list):\n",
    "        reverse_list.append(item)\n",
    "    return reverse_list\n",
    "\n",
    "reversed_result = reversed_list(list)\n",
    "print(reversed_result)"
   ]
  },
  {
   "cell_type": "code",
   "execution_count": null,
   "id": "be34997d-aeaa-4e8d-9c3a-134a3eb3193d",
   "metadata": {},
   "outputs": [],
   "source": []
  }
 ],
 "metadata": {
  "kernelspec": {
   "display_name": "Python 3 (ipykernel)",
   "language": "python",
   "name": "python3"
  },
  "language_info": {
   "codemirror_mode": {
    "name": "ipython",
    "version": 3
   },
   "file_extension": ".py",
   "mimetype": "text/x-python",
   "name": "python",
   "nbconvert_exporter": "python",
   "pygments_lexer": "ipython3",
   "version": "3.11.3"
  }
 },
 "nbformat": 4,
 "nbformat_minor": 5
}
